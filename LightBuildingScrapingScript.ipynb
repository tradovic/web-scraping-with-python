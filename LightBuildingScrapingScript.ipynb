{
  "nbformat": 4,
  "nbformat_minor": 0,
  "metadata": {
    "colab": {
      "name": "LightBuildingScrapingScript.ipynb",
      "provenance": []
    },
    "kernelspec": {
      "name": "python3",
      "display_name": "Python 3"
    },
    "language_info": {
      "name": "python"
    }
  },
  "cells": [
    {
      "cell_type": "code",
      "execution_count": 1,
      "metadata": {
        "id": "mnMiJkaiAEFO"
      },
      "outputs": [],
      "source": [
        "import requests\n",
        "import json\n",
        "import pandas as pd\n",
        "import csv"
      ]
    },
    {
      "cell_type": "code",
      "source": [
        "from google.colab import drive\n",
        "drive.mount('/content/drive')"
      ],
      "metadata": {
        "colab": {
          "base_uri": "https://localhost:8080/"
        },
        "id": "bBYP6VhoANJJ",
        "outputId": "873998e6-26ce-4886-9e7f-4b1f6cddce43"
      },
      "execution_count": 2,
      "outputs": [
        {
          "output_type": "stream",
          "name": "stdout",
          "text": [
            "Mounted at /content/drive\n"
          ]
        }
      ]
    },
    {
      "cell_type": "code",
      "source": [
        "query = \"\"\"query{ \n",
        "  fair(lang: \"en\", fairId: \"LIGHTBUILDING\") {\n",
        "    exhibitors(pageSize: 1200, pageNumber: 1) {\n",
        "      id\n",
        "      name\n",
        "      isAd\n",
        "      href\n",
        "      rewriteId\n",
        "      address {\n",
        "        street\n",
        "        city\n",
        "        zip\n",
        "        country\n",
        "        tel\n",
        "        fax\n",
        "        email\n",
        "        __typename\n",
        "      }\n",
        "      standInformation {\n",
        "        name\n",
        "        stands {\n",
        "          name\n",
        "          boothId\n",
        "          __typename\n",
        "        }\n",
        "        __typename\n",
        "      }\n",
        "      __typename\n",
        "    }\n",
        "    __typename\n",
        "  }\n",
        "}\"\"\"\n",
        "schema = ['Exhibitor Name','Website', 'Street', 'City', 'Zip','Country', 'Tel','Email','Hall (Stand)']\n",
        "url = 'https://igp.messefrankfurt.com/graphql'\n",
        "r = requests.post(url, json={'query': query})\n",
        "json_data = json.loads(r.text)\n",
        "data = json_data['data']['fair']['exhibitors']\n",
        "\n",
        "with open('drive/MyDrive/LightBuilding.csv', 'w') as csvfile:\n",
        "    filewriter = csv.writer(csvfile, delimiter='#',\n",
        "                             quotechar='|', quoting=csv.QUOTE_MINIMAL)\n",
        "    filewriter.writerow([col for col in schema])\n",
        "    for item in data:\n",
        "        add = item['address']\n",
        "        stands = item['standInformation']\n",
        "        for stand in stands:\n",
        "            standnumbers = stands[0]['stands']\n",
        "            results = [sub['name'] for sub in standnumbers]\n",
        "            listToStr = ', '.join([str(elem) for elem in results])\n",
        "\n",
        "        filewriter.writerow([item['name'], item['href'], add['street'],add['city'],add['zip'],add['country'], add['tel'], add['email'], listToStr])\n",
        "        "
      ],
      "metadata": {
        "id": "_6sDQhHMANzm"
      },
      "execution_count": null,
      "outputs": []
    }
  ]
}